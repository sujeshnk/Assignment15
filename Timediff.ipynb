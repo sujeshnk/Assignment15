{
  "nbformat": 4,
  "nbformat_minor": 0,
  "metadata": {
    "colab": {
      "name": "Timediff.ipynb",
      "provenance": []
    },
    "kernelspec": {
      "name": "python3",
      "display_name": "Python 3"
    },
    "language_info": {
      "name": "python"
    }
  },
  "cells": [
    {
      "cell_type": "code",
      "metadata": {
        "colab": {
          "base_uri": "https://localhost:8080/"
        },
        "id": "GXThXoGZTass",
        "outputId": "b7a361b2-5500-4cbc-9f2a-e5a9665ee48f"
      },
      "source": [
        "birth = '28-06-1983'\n",
        "import datetime\n",
        "now = datetime.datetime.now()\n",
        "now\n",
        "birth\n",
        "then = datetime.datetime.strptime(birth,'%d-%m-%Y')\n",
        "then\n",
        "elapsed = now - then\n",
        "elapsed\n",
        "elapsed.days/7\n",
        "elapsed.days/30\n",
        "elapsed.days/365"
      ],
      "execution_count": 8,
      "outputs": [
        {
          "output_type": "execute_result",
          "data": {
            "text/plain": [
              "37.9972602739726"
            ]
          },
          "metadata": {
            "tags": []
          },
          "execution_count": 8
        }
      ]
    }
  ]
}